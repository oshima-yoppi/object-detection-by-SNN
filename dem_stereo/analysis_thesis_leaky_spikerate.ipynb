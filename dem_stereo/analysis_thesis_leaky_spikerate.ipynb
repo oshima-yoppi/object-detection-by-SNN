{
 "cells": [
  {
   "cell_type": "code",
   "execution_count": 1,
   "metadata": {},
   "outputs": [],
   "source": [
    "# %%import pandas as pd\n",
    "import matplotlib.pyplot as plt\n",
    "import pandas as pd\n",
    "import numpy as np\n",
    "import argparse\n",
    "import os\n",
    "import seaborn as sns\n",
    "\n",
    "# %%"
   ]
  },
  {
   "cell_type": "code",
   "execution_count": 2,
   "metadata": {},
   "outputs": [],
   "source": [
    "csv_num = 41"
   ]
  },
  {
   "cell_type": "code",
   "execution_count": 3,
   "metadata": {},
   "outputs": [
    {
     "name": "stdout",
     "output_type": "stream",
     "text": [
      "    soft_reset  PARM_LEARN  time step  ACCUMULATE_EVENT_MILITIME  EVENT_COUNT  \\\n",
      "0         True       False          2                        100        False   \n",
      "4         True       False          3                        100        False   \n",
      "8         True       False          4                        100        False   \n",
      "12        True       False          6                        100        False   \n",
      "1         True       False          2                        100        False   \n",
      "\n",
      "    EVENT_TH  TIME_CHANGE  BETA_LEARN  THRESHOLD_LEARN  Leaky  ...  \\\n",
      "0       0.15        False       False            False    0.3  ...   \n",
      "4       0.15        False       False            False    0.3  ...   \n",
      "8       0.15        False       False            False    0.3  ...   \n",
      "12      0.15        False       False            False    0.3  ...   \n",
      "1       0.15        False       False            False    0.7  ...   \n",
      "\n",
      "    threshold_3  threshold_4  Energy per inference  Spike Rate  \\\n",
      "0           1.0         10.0          8.425946e-08    0.148148   \n",
      "4           1.0         10.0          2.004638e-07    0.352464   \n",
      "8           1.0         10.0          3.356816e-07    0.590209   \n",
      "12          1.0         10.0          5.787475e-07    1.017577   \n",
      "1           1.0         10.0          7.240366e-08    0.127303   \n",
      "\n",
      "    Failed MaxArea    layer1    layer2    layer3    layer4  spike_rate_4  \n",
      "0         0.156761  0.034493  0.143736  0.117031  0.032134      0.297870  \n",
      "4         0.223084  0.058666  0.242303  0.152404  0.025761      0.261852  \n",
      "8         0.085702  0.079414  0.299514  0.182950  0.021139      0.310926  \n",
      "12        0.149871  0.086126  0.333608  0.255529  0.020408      0.284444  \n",
      "1         0.165805  0.031684  0.114551  0.105268  0.037909      0.300000  \n",
      "\n",
      "[5 rows x 30 columns]\n",
      "      layer1    layer2    layer3    layer4  Leaky\n",
      "0   0.034493  0.143736  0.117031  0.032134    0.3\n",
      "4   0.058666  0.242303  0.152404  0.025761    0.3\n",
      "8   0.079414  0.299514  0.182950  0.021139    0.3\n",
      "12  0.086126  0.333608  0.255529  0.020408    0.3\n",
      "1   0.031684  0.114551  0.105268  0.037909    0.7\n",
      "    Leaky   Layer  spike rate\n",
      "0     0.3  layer1    0.034493\n",
      "1     0.3  layer1    0.058666\n",
      "2     0.3  layer1    0.079414\n",
      "3     0.3  layer1    0.086126\n",
      "4     0.7  layer1    0.031684\n",
      "..    ...     ...         ...\n",
      "59    0.9  layer4    0.032948\n",
      "60    1.0  layer4    0.036778\n",
      "61    1.0  layer4    0.064752\n",
      "62    1.0  layer4    0.061487\n",
      "63    1.0  layer4    0.038778\n",
      "\n",
      "[64 rows x 3 columns]\n"
     ]
    },
    {
     "data": {
      "image/png": "[encoded data removed]",
      "text/plain": [
       "<Figure size 600x400 with 1 Axes>"
      ]
     },
     "metadata": {},
     "output_type": "display_data"
    }
   ],
   "source": [
    "csv_path = f\"result_experiment/experiment_{csv_num:03}.csv\"\n",
    "# csv_path = \"result_experiment/experiment_031.csv\"\n",
    "data = pd.read_csv(csv_path)\n",
    "data = data.sort_values(by=[\"THRESHOLD\", \"BETA\", \"FINISH_STEP\"])\n",
    "# finish_step_lst = [2, 4, 6, 8]\n",
    "leaky_lst = data.loc[:, \"BETA\"].unique()\n",
    "timestep_lst = data.loc[:, \"FINISH_STEP\"].unique()\n",
    "\n",
    "SAVE_DIR = \"result_thesis\"\n",
    "os.makedirs(SAVE_DIR, exist_ok=True)\n",
    "\n",
    "data = data.rename(columns={\"FINISH_STEP\": \"time step\"})\n",
    "data = data.rename(columns={\"BETA\": \"Leaky\"})\n",
    "\n",
    "# 発火率の関係 when time step = 6\n",
    "for i in range(4):\n",
    "    data = data.rename(columns={f\"spike_rate_{i}\": f\"layer{i+1}\"})\n",
    "print(data.head())\n",
    "\n",
    "data = data[[\"layer1\", \"layer2\", \"layer3\", \"layer4\", \"Leaky\"]]\n",
    "print(data.head())\n",
    "spike_rate_pivot_table = pd.melt(\n",
    "    data,\n",
    "    id_vars=[\"Leaky\"],\n",
    "    value_vars=[\"layer1\", \"layer2\", \"layer3\", \"layer4\"],\n",
    "    var_name=\"Layer\",\n",
    "    value_name=\"spike rate\",\n",
    ")\n",
    "print(spike_rate_pivot_table)\n",
    "\n",
    "\n",
    "# plt.figure(figsize=(15, 10))\n",
    "g = sns.catplot(\n",
    "    x=\"Layer\",\n",
    "    y=\"spike rate\",\n",
    "    hue=\"Leaky\",\n",
    "    data=spike_rate_pivot_table,\n",
    "    kind=\"bar\",  # 黒い線は95%信頼区間を示します\n",
    "    palette=\"muted\",\n",
    ")\n",
    "# figsize = (10, 10)\n",
    "g.fig.set_size_inches(6, 4)\n",
    "plt.savefig(os.path.join(SAVE_DIR, f\"thresh_leaky_spike_rate.png\"))\n",
    "plt.savefig(os.path.join(SAVE_DIR, f\"thresh_leakyspike_rate.pdf\"))\n",
    "plt.show()\n"
   ]
  },
  {
   "cell_type": "code",
   "execution_count": null,
   "metadata": {},
   "outputs": [],
   "source": []
  }
 ],
 "metadata": {
  "kernelspec": {
   "display_name": "thesis",
   "language": "python",
   "name": "python3"
  },
  "language_info": {
   "codemirror_mode": {
    "name": "ipython",
    "version": 3
   },
   "file_extension": ".py",
   "mimetype": "text/x-python",
   "name": "python",
   "nbconvert_exporter": "python",
   "pygments_lexer": "ipython3",
   "version": "3.11.5"
  }
 },
 "nbformat": 4,
 "nbformat_minor": 2
}
